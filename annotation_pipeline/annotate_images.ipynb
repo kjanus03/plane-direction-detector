{
 "cells": [
  {
   "cell_type": "code",
   "execution_count": 25,
   "id": "initial_id",
   "metadata": {
    "ExecuteTime": {
     "end_time": "2025-04-11T12:51:33.857205Z",
     "start_time": "2025-04-11T12:51:31.965194Z"
    }
   },
   "outputs": [],
   "source": [
    "import matplotlib.pyplot as plt\n",
    "import matplotlib.patches as patches\n",
    "from IPython.display import display, clear_output\n",
    "import ipywidgets as widgets\n",
    "import json\n",
    "import numpy as np\n",
    "from PIL import Image\n",
    "\n",
    "from datasets import load_dataset\n",
    "\n",
    "ds = load_dataset(\"keremberke/plane-detection\", name=\"full\", split=\"train\")\n"
   ]
  },
  {
   "cell_type": "code",
   "execution_count": 26,
   "id": "d7a07833560737a9",
   "metadata": {
    "ExecuteTime": {
     "end_time": "2025-04-11T12:51:33.903658Z",
     "start_time": "2025-04-11T12:51:33.863186Z"
    }
   },
   "outputs": [],
   "source": [
    "def plot_image_with_bbox(entry, clock_image_path=\"clock-without-hands-black-white.png\"):\n",
    "    # plane image\n",
    "    img = entry['image']\n",
    "    fig, ax = plt.subplots(1, figsize=(12, 8))\n",
    "    ax.imshow(img)\n",
    "    \n",
    "    objects = entry['objects']\n",
    "    if objects['bbox']:\n",
    "        bbox = objects['bbox'][0]  # [x, y, width, height]\n",
    "        x, y, w, h = bbox\n",
    "        \n",
    "        rect = patches.Rectangle((x, y), w, h, linewidth=2, edgecolor='red', facecolor='none')\n",
    "        ax.add_patch(rect)\n",
    "        \n",
    "        clock_img = Image.open(clock_image_path).convert(\"RGBA\")\n",
    "        clock_img = clock_img.resize((int(w), int(h)))\n",
    "        clock_np = np.array(clock_img)\n",
    "        \n",
    "        # overlaying the clock image\n",
    "        ax.imshow(clock_np, extent=[x, x+w, y+h, y], alpha=0.6)\n",
    "    else:\n",
    "        ax.text(0.5, 0.5, \"No bounding box available\", transform=ax.transAxes, \n",
    "                fontsize=20, ha='center', color='red')\n",
    "    \n",
    "    # showing the whole image\n",
    "    ax.set_xlim(0, img.width)\n",
    "    ax.set_ylim(img.height, 0)\n",
    "    ax.set_title(\"Image with Bounding Box and Clock Overlay\")\n",
    "    plt.axis('off')\n",
    "    plt.show()"
   ]
  },
  {
   "cell_type": "code",
   "execution_count": 27,
   "id": "d74fa1e49623723d",
   "metadata": {
    "ExecuteTime": {
     "end_time": "2025-04-11T12:51:33.966632Z",
     "start_time": "2025-04-11T12:51:33.907044Z"
    }
   },
   "outputs": [],
   "source": [
    "%matplotlib inline\n",
    "direction_widget = widgets.Dropdown(\n",
    "    options=[str(i) for i in range(1, 13)],\n",
    "    value='1',\n",
    "    description='Direction:',\n",
    "    style={'description_width': 'initial'}\n",
    ")\n",
    "\n",
    "contrail_widget = widgets.Checkbox(\n",
    "    value=False,\n",
    "    description='Contrail Visible',\n",
    "    indent=False\n",
    ")\n",
    "\n",
    "plane_visible_widget = widgets.Checkbox(\n",
    "    value=True,\n",
    "    description='Plane Visible',\n",
    "    indent=False\n",
    ")\n",
    "\n",
    "submit_button = widgets.Button(\n",
    "    description=\"Submit Annotation\",\n",
    "    button_style='success'\n",
    ")\n",
    "\n",
    "annotation_out = widgets.Output()\n",
    "\n",
    "annotations = {}\n",
    "\n",
    "current_index = 0\n",
    "max_annotations = 50\n"
   ]
  },
  {
   "cell_type": "code",
   "execution_count": 28,
   "id": "9a23597fec715a6a",
   "metadata": {
    "ExecuteTime": {
     "end_time": "2025-04-11T12:51:33.996823Z",
     "start_time": "2025-04-11T12:51:33.976025Z"
    }
   },
   "outputs": [],
   "source": [
    "def next_image():\n",
    "    global current_index, max_annotations\n",
    "    plt.close('all')              # close open figures\n",
    "    clear_output(wait=True)\n",
    "    \n",
    "    if current_index < max_annotations and current_index < len(ds['train']):\n",
    "        entry = ds['train'][current_index]\n",
    "        plot_image_with_bbox(entry)\n",
    "        display(widgets.HBox([direction_widget, contrail_widget, plane_visible_widget, submit_button]))\n",
    "        display(annotation_out)\n",
    "        print(f\"Image {current_index+1} of {max_annotations}\")\n",
    "    else:\n",
    "        print(\"Annotation complete!\")\n",
    "        save_annotations()\n",
    "\n",
    "def save_annotations():\n",
    "    with open(\"annotations.json\", \"w\") as f:\n",
    "        json.dump(annotations, f, indent=4)\n",
    "    print(\"Annotations saved to annotations.json\")\n",
    "\n",
    "def on_submit(change):\n",
    "    global current_index, annotations\n",
    "    direction = direction_widget.value\n",
    "    contrail = contrail_widget.value\n",
    "    plane_visible = plane_visible_widget.value\n",
    "    \n",
    "    image_id = ds['train'][current_index]['image_id']\n",
    "    annotations[image_id] = {\n",
    "        'direction': int(direction) if ds['train'][current_index]['objects']['bbox'] else None,\n",
    "        'contrail': contrail,\n",
    "        'plane_visible': plane_visible\n",
    "    }\n",
    "    \n",
    "    with annotation_out:\n",
    "        print(f\"Annotated image_id {image_id} -> Direction: {direction}, Contrail: {contrail}, Plane Visible: {plane_visible}\")\n",
    "    \n",
    "    # resetting widgets\n",
    "    direction_widget.value = '1'\n",
    "    contrail_widget.value = False\n",
    "    plane_visible_widget.value = True\n",
    "    \n",
    "    current_index += 1\n",
    "    next_image()\n",
    "\n",
    "submit_button.on_click(on_submit)\n"
   ]
  },
  {
   "cell_type": "code",
   "execution_count": 29,
   "id": "6df8aca1357c9cf8",
   "metadata": {},
   "outputs": [
    {
     "ename": "KeyError",
     "evalue": "\"Column train not in the dataset. Current columns in the dataset: ['image_id', 'image', 'width', 'height', 'objects']\"",
     "output_type": "error",
     "traceback": [
      "\u001b[1;31m---------------------------------------------------------------------------\u001b[0m",
      "\u001b[1;31mKeyError\u001b[0m                                  Traceback (most recent call last)",
      "Cell \u001b[1;32mIn[29], line 1\u001b[0m\n\u001b[1;32m----> 1\u001b[0m \u001b[43mnext_image\u001b[49m\u001b[43m(\u001b[49m\u001b[43m)\u001b[49m\n",
      "Cell \u001b[1;32mIn[28], line 6\u001b[0m, in \u001b[0;36mnext_image\u001b[1;34m()\u001b[0m\n\u001b[0;32m      3\u001b[0m plt\u001b[38;5;241m.\u001b[39mclose(\u001b[38;5;124m'\u001b[39m\u001b[38;5;124mall\u001b[39m\u001b[38;5;124m'\u001b[39m)              \u001b[38;5;66;03m# close open figures\u001b[39;00m\n\u001b[0;32m      4\u001b[0m clear_output(wait\u001b[38;5;241m=\u001b[39m\u001b[38;5;28;01mTrue\u001b[39;00m)\n\u001b[1;32m----> 6\u001b[0m \u001b[38;5;28;01mif\u001b[39;00m current_index \u001b[38;5;241m<\u001b[39m max_annotations \u001b[38;5;129;01mand\u001b[39;00m current_index \u001b[38;5;241m<\u001b[39m \u001b[38;5;28mlen\u001b[39m(\u001b[43mds\u001b[49m\u001b[43m[\u001b[49m\u001b[38;5;124;43m'\u001b[39;49m\u001b[38;5;124;43mtrain\u001b[39;49m\u001b[38;5;124;43m'\u001b[39;49m\u001b[43m]\u001b[49m):\n\u001b[0;32m      7\u001b[0m     entry \u001b[38;5;241m=\u001b[39m ds[\u001b[38;5;124m'\u001b[39m\u001b[38;5;124mtrain\u001b[39m\u001b[38;5;124m'\u001b[39m][current_index]\n\u001b[0;32m      8\u001b[0m     plot_image_with_bbox(entry)\n",
      "File \u001b[1;32m~\\anaconda3\\lib\\site-packages\\datasets\\arrow_dataset.py:2777\u001b[0m, in \u001b[0;36mDataset.__getitem__\u001b[1;34m(self, key)\u001b[0m\n\u001b[0;32m   2775\u001b[0m \u001b[38;5;28;01mdef\u001b[39;00m \u001b[38;5;21m__getitem__\u001b[39m(\u001b[38;5;28mself\u001b[39m, key):  \u001b[38;5;66;03m# noqa: F811\u001b[39;00m\n\u001b[0;32m   2776\u001b[0m \u001b[38;5;250m    \u001b[39m\u001b[38;5;124;03m\"\"\"Can be used to index columns (by string names) or rows (by integer index or iterable of indices or bools).\"\"\"\u001b[39;00m\n\u001b[1;32m-> 2777\u001b[0m     \u001b[38;5;28;01mreturn\u001b[39;00m \u001b[38;5;28;43mself\u001b[39;49m\u001b[38;5;241;43m.\u001b[39;49m\u001b[43m_getitem\u001b[49m\u001b[43m(\u001b[49m\u001b[43mkey\u001b[49m\u001b[43m)\u001b[49m\n",
      "File \u001b[1;32m~\\anaconda3\\lib\\site-packages\\datasets\\arrow_dataset.py:2761\u001b[0m, in \u001b[0;36mDataset._getitem\u001b[1;34m(self, key, **kwargs)\u001b[0m\n\u001b[0;32m   2759\u001b[0m format_kwargs \u001b[38;5;241m=\u001b[39m format_kwargs \u001b[38;5;28;01mif\u001b[39;00m format_kwargs \u001b[38;5;129;01mis\u001b[39;00m \u001b[38;5;129;01mnot\u001b[39;00m \u001b[38;5;28;01mNone\u001b[39;00m \u001b[38;5;28;01melse\u001b[39;00m {}\n\u001b[0;32m   2760\u001b[0m formatter \u001b[38;5;241m=\u001b[39m get_formatter(format_type, features\u001b[38;5;241m=\u001b[39m\u001b[38;5;28mself\u001b[39m\u001b[38;5;241m.\u001b[39m_info\u001b[38;5;241m.\u001b[39mfeatures, \u001b[38;5;241m*\u001b[39m\u001b[38;5;241m*\u001b[39mformat_kwargs)\n\u001b[1;32m-> 2761\u001b[0m pa_subtable \u001b[38;5;241m=\u001b[39m \u001b[43mquery_table\u001b[49m\u001b[43m(\u001b[49m\u001b[38;5;28;43mself\u001b[39;49m\u001b[38;5;241;43m.\u001b[39;49m\u001b[43m_data\u001b[49m\u001b[43m,\u001b[49m\u001b[43m \u001b[49m\u001b[43mkey\u001b[49m\u001b[43m,\u001b[49m\u001b[43m \u001b[49m\u001b[43mindices\u001b[49m\u001b[38;5;241;43m=\u001b[39;49m\u001b[38;5;28;43mself\u001b[39;49m\u001b[38;5;241;43m.\u001b[39;49m\u001b[43m_indices\u001b[49m\u001b[43m)\u001b[49m\n\u001b[0;32m   2762\u001b[0m formatted_output \u001b[38;5;241m=\u001b[39m format_table(\n\u001b[0;32m   2763\u001b[0m     pa_subtable, key, formatter\u001b[38;5;241m=\u001b[39mformatter, format_columns\u001b[38;5;241m=\u001b[39mformat_columns, output_all_columns\u001b[38;5;241m=\u001b[39moutput_all_columns\n\u001b[0;32m   2764\u001b[0m )\n\u001b[0;32m   2765\u001b[0m \u001b[38;5;28;01mreturn\u001b[39;00m formatted_output\n",
      "File \u001b[1;32m~\\anaconda3\\lib\\site-packages\\datasets\\formatting\\formatting.py:609\u001b[0m, in \u001b[0;36mquery_table\u001b[1;34m(table, key, indices)\u001b[0m\n\u001b[0;32m    607\u001b[0m         _raise_bad_key_type(key)\n\u001b[0;32m    608\u001b[0m \u001b[38;5;28;01mif\u001b[39;00m \u001b[38;5;28misinstance\u001b[39m(key, \u001b[38;5;28mstr\u001b[39m):\n\u001b[1;32m--> 609\u001b[0m     \u001b[43m_check_valid_column_key\u001b[49m\u001b[43m(\u001b[49m\u001b[43mkey\u001b[49m\u001b[43m,\u001b[49m\u001b[43m \u001b[49m\u001b[43mtable\u001b[49m\u001b[38;5;241;43m.\u001b[39;49m\u001b[43mcolumn_names\u001b[49m\u001b[43m)\u001b[49m\n\u001b[0;32m    610\u001b[0m \u001b[38;5;28;01melse\u001b[39;00m:\n\u001b[0;32m    611\u001b[0m     size \u001b[38;5;241m=\u001b[39m indices\u001b[38;5;241m.\u001b[39mnum_rows \u001b[38;5;28;01mif\u001b[39;00m indices \u001b[38;5;129;01mis\u001b[39;00m \u001b[38;5;129;01mnot\u001b[39;00m \u001b[38;5;28;01mNone\u001b[39;00m \u001b[38;5;28;01melse\u001b[39;00m table\u001b[38;5;241m.\u001b[39mnum_rows\n",
      "File \u001b[1;32m~\\anaconda3\\lib\\site-packages\\datasets\\formatting\\formatting.py:546\u001b[0m, in \u001b[0;36m_check_valid_column_key\u001b[1;34m(key, columns)\u001b[0m\n\u001b[0;32m    544\u001b[0m \u001b[38;5;28;01mdef\u001b[39;00m \u001b[38;5;21m_check_valid_column_key\u001b[39m(key: \u001b[38;5;28mstr\u001b[39m, columns: \u001b[38;5;28mlist\u001b[39m[\u001b[38;5;28mstr\u001b[39m]) \u001b[38;5;241m-\u001b[39m\u001b[38;5;241m>\u001b[39m \u001b[38;5;28;01mNone\u001b[39;00m:\n\u001b[0;32m    545\u001b[0m     \u001b[38;5;28;01mif\u001b[39;00m key \u001b[38;5;129;01mnot\u001b[39;00m \u001b[38;5;129;01min\u001b[39;00m columns:\n\u001b[1;32m--> 546\u001b[0m         \u001b[38;5;28;01mraise\u001b[39;00m \u001b[38;5;167;01mKeyError\u001b[39;00m(\u001b[38;5;124mf\u001b[39m\u001b[38;5;124m\"\u001b[39m\u001b[38;5;124mColumn \u001b[39m\u001b[38;5;132;01m{\u001b[39;00mkey\u001b[38;5;132;01m}\u001b[39;00m\u001b[38;5;124m not in the dataset. Current columns in the dataset: \u001b[39m\u001b[38;5;132;01m{\u001b[39;00mcolumns\u001b[38;5;132;01m}\u001b[39;00m\u001b[38;5;124m\"\u001b[39m)\n",
      "\u001b[1;31mKeyError\u001b[0m: \"Column train not in the dataset. Current columns in the dataset: ['image_id', 'image', 'width', 'height', 'objects']\""
     ]
    }
   ],
   "source": [
    "next_image()"
   ]
  },
  {
   "cell_type": "code",
   "execution_count": null,
   "id": "5b16e169cd992948",
   "metadata": {},
   "outputs": [],
   "source": []
  },
  {
   "cell_type": "code",
   "execution_count": null,
   "id": "4359369a58e0d597",
   "metadata": {},
   "outputs": [],
   "source": []
  }
 ],
 "metadata": {
  "kernelspec": {
   "display_name": "Python 3 (ipykernel)",
   "language": "python",
   "name": "python3"
  },
  "language_info": {
   "codemirror_mode": {
    "name": "ipython",
    "version": 3
   },
   "file_extension": ".py",
   "mimetype": "text/x-python",
   "name": "python",
   "nbconvert_exporter": "python",
   "pygments_lexer": "ipython3",
   "version": "3.9.18"
  }
 },
 "nbformat": 4,
 "nbformat_minor": 5
}
