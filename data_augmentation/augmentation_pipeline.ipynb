{
 "cells": [
  {
   "cell_type": "code",
   "id": "initial_id",
   "metadata": {
    "collapsed": true,
    "ExecuteTime": {
     "end_time": "2025-04-15T23:09:11.632315Z",
     "start_time": "2025-04-15T23:08:39.075441Z"
    }
   },
   "source": [
    "import json\n",
    "import os\n",
    "from PIL import Image\n",
    "import numpy as np\n",
    "from tqdm import tqdm\n",
    "\n",
    "import albumentations as A\n",
    "from albumentations.pytorch import ToTensorV2\n",
    "\n",
    "from datasets import load_dataset"
   ],
   "outputs": [],
   "execution_count": 2
  },
  {
   "metadata": {
    "ExecuteTime": {
     "end_time": "2025-04-15T23:09:16.551727Z",
     "start_time": "2025-04-15T23:09:11.639492Z"
    }
   },
   "cell_type": "code",
   "source": "ds = load_dataset(\"keremberke/plane-detection\", name=\"full\")",
   "id": "76faebee75b672e2",
   "outputs": [],
   "execution_count": 3
  },
  {
   "metadata": {
    "ExecuteTime": {
     "end_time": "2025-04-15T23:10:27.385908Z",
     "start_time": "2025-04-15T23:10:27.366515Z"
    }
   },
   "cell_type": "code",
   "source": [
    "with open(\"../annotation_pipeline/annotations.json\") as f:\n",
    "    manual_annotations = json.load(f)"
   ],
   "id": "5bb919d394c15615",
   "outputs": [],
   "execution_count": 6
  },
  {
   "metadata": {},
   "cell_type": "markdown",
   "source": "## Augmentation pipeline",
   "id": "c6e552516e6843c9"
  },
  {
   "metadata": {
    "ExecuteTime": {
     "end_time": "2025-04-15T23:11:03.305286Z",
     "start_time": "2025-04-15T23:11:03.207575Z"
    }
   },
   "cell_type": "code",
   "source": [
    "transform = A.Compose([\n",
    "    A.Rotate(limit=30, p=0.7),\n",
    "    A.HorizontalFlip(p=0.5),\n",
    "    A.RandomBrightnessContrast(p=0.2),\n",
    "    A.RandomScale(scale_limit=0.2, p=0.5),\n",
    "    A.ShiftScaleRotate(shift_limit=0.1, scale_limit=0.2, rotate_limit=45, p=0.7),\n",
    "    A.Normalize(),\n",
    "    ToTensorV2()\n",
    "])"
   ],
   "id": "f6965a5603950e6b",
   "outputs": [
    {
     "name": "stderr",
     "output_type": "stream",
     "text": [
      "C:\\Users\\adamj\\anaconda3\\lib\\site-packages\\albumentations\\core\\validation.py:87: UserWarning: ShiftScaleRotate is a special case of Affine transform. Please use Affine transform instead.\n",
      "  original_init(self, **validated_kwargs)\n"
     ]
    }
   ],
   "execution_count": 7
  },
  {
   "metadata": {
    "ExecuteTime": {
     "end_time": "2025-04-15T23:11:16.753385Z",
     "start_time": "2025-04-15T23:11:16.677889Z"
    }
   },
   "cell_type": "code",
   "source": [
    "augmented_dir = \"augmented_data\"\n",
    "os.makedirs(augmented_dir, exist_ok=True)\n",
    "\n",
    "augmented_annotations = []"
   ],
   "id": "1c19394ee0004850",
   "outputs": [],
   "execution_count": 8
  },
  {
   "metadata": {
    "ExecuteTime": {
     "end_time": "2025-04-15T23:12:15.827Z",
     "start_time": "2025-04-15T23:11:52.050037Z"
    }
   },
   "cell_type": "code",
   "source": [
    "for entry in tqdm(ds['train']):\n",
    "    image_id = str(entry['image_id'])\n",
    "    if image_id not in manual_annotations:\n",
    "        continue\n",
    "\n",
    "    ann = manual_annotations[image_id]\n",
    "    if not ann['plane_visible']:\n",
    "        continue\n",
    "\n",
    "    objects = entry['objects']\n",
    "    if not objects['bbox']:\n",
    "        continue\n",
    "\n",
    "    # Get image and convert to array\n",
    "    image_pil = entry['image']\n",
    "    image_np = np.array(image_pil)\n",
    "\n",
    "    # Crop the bounding box region\n",
    "    bbox = objects['bbox'][0]  # x, y, w, h\n",
    "    x, y, w, h = map(int, bbox)\n",
    "    cropped = image_np[y:y+h, x:x+w]\n",
    "\n",
    "    # Apply transformation\n",
    "    augmented = transform(image=cropped)\n",
    "    aug_img_tensor = augmented['image']\n",
    "    aug_img_np = aug_img_tensor.permute(1, 2, 0).numpy()  # HWC\n",
    "\n",
    "    save_path = os.path.join(augmented_dir, f\"aug_{image_id}.png\")\n",
    "    Image.fromarray((aug_img_np * 255).astype(np.uint8)).save(save_path)\n",
    "\n",
    "    augmented_annotations.append({\n",
    "        \"image_path\": save_path,\n",
    "        \"image_id\": int(image_id),\n",
    "        \"object_id\": objects['id'][0],\n",
    "        \"bbox\": bbox,\n",
    "        \"direction\": ann['direction'],\n",
    "        \"contrail\": ann['contrail'],\n",
    "        \"plane_visible\": ann['plane_visible']\n",
    "    })"
   ],
   "id": "1ce8a9d2d818770c",
   "outputs": [
    {
     "name": "stderr",
     "output_type": "stream",
     "text": [
      "100%|██████████| 175/175 [00:23<00:00,  7.37it/s]\n"
     ]
    }
   ],
   "execution_count": 9
  },
  {
   "metadata": {
    "ExecuteTime": {
     "end_time": "2025-04-15T23:12:21.680660Z",
     "start_time": "2025-04-15T23:12:21.649482Z"
    }
   },
   "cell_type": "code",
   "source": [
    "with open(\"augmented_annotations.json\", \"w\") as f:\n",
    "    json.dump(augmented_annotations, f, indent=4)\n",
    "\n",
    "print(f\"Saved {len(augmented_annotations)} augmented samples to {augmented_dir}\")"
   ],
   "id": "ec28671e021d4f05",
   "outputs": [
    {
     "name": "stdout",
     "output_type": "stream",
     "text": [
      "Saved 40 augmented samples to augmented_data\n"
     ]
    }
   ],
   "execution_count": 10
  },
  {
   "metadata": {},
   "cell_type": "code",
   "outputs": [],
   "execution_count": null,
   "source": "",
   "id": "5b034998d1a2a195"
  }
 ],
 "metadata": {
  "kernelspec": {
   "display_name": "Python 3",
   "language": "python",
   "name": "python3"
  },
  "language_info": {
   "codemirror_mode": {
    "name": "ipython",
    "version": 2
   },
   "file_extension": ".py",
   "mimetype": "text/x-python",
   "name": "python",
   "nbconvert_exporter": "python",
   "pygments_lexer": "ipython2",
   "version": "2.7.6"
  }
 },
 "nbformat": 4,
 "nbformat_minor": 5
}
